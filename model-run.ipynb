{
 "cells": [
  {
   "cell_type": "code",
   "execution_count": 2,
   "id": "e7ce0f1b-55f3-43a5-bfa7-fc1a4e9b3807",
   "metadata": {
    "tags": []
   },
   "outputs": [
    {
     "name": "stdout",
     "output_type": "stream",
     "text": [
      "Collecting transformers\n",
      "  Downloading transformers-4.13.0-py3-none-any.whl (3.3 MB)\n",
      "\u001b[K     |████████████████████████████████| 3.3 MB 776 kB/s eta 0:00:01     |████████▎                       | 860 kB 776 kB/s eta 0:00:04\n",
      "\u001b[?25hRequirement already satisfied: filelock in /Users/annasergeeva/opt/anaconda3/lib/python3.8/site-packages (from transformers) (3.0.12)\n",
      "Requirement already satisfied: numpy>=1.17 in /Users/annasergeeva/opt/anaconda3/lib/python3.8/site-packages (from transformers) (1.20.1)\n",
      "Collecting sacremoses\n",
      "  Downloading sacremoses-0.0.46-py3-none-any.whl (895 kB)\n",
      "\u001b[K     |████████████████████████████████| 895 kB 7.1 MB/s eta 0:00:01     |█▌                              | 40 kB 11.0 MB/s eta 0:00:01\n",
      "\u001b[?25hRequirement already satisfied: pyyaml>=5.1 in /Users/annasergeeva/opt/anaconda3/lib/python3.8/site-packages (from transformers) (5.4.1)\n",
      "Requirement already satisfied: regex!=2019.12.17 in /Users/annasergeeva/opt/anaconda3/lib/python3.8/site-packages (from transformers) (2021.4.4)\n",
      "Collecting huggingface-hub<1.0,>=0.1.0\n",
      "  Downloading huggingface_hub-0.2.1-py3-none-any.whl (61 kB)\n",
      "\u001b[K     |████████████████████████████████| 61 kB 779 kB/s eta 0:00:011\n",
      "\u001b[?25hRequirement already satisfied: requests in /Users/annasergeeva/opt/anaconda3/lib/python3.8/site-packages (from transformers) (2.25.1)\n",
      "Requirement already satisfied: packaging>=20.0 in /Users/annasergeeva/opt/anaconda3/lib/python3.8/site-packages (from transformers) (20.9)\n",
      "Collecting tokenizers<0.11,>=0.10.1\n",
      "  Downloading tokenizers-0.10.3-cp38-cp38-macosx_10_11_x86_64.whl (2.2 MB)\n",
      "\u001b[K     |████████████████████████████████| 2.2 MB 1.6 MB/s eta 0:00:01\n",
      "\u001b[?25hRequirement already satisfied: tqdm>=4.27 in /Users/annasergeeva/opt/anaconda3/lib/python3.8/site-packages (from transformers) (4.59.0)\n",
      "Requirement already satisfied: typing-extensions>=3.7.4.3 in /Users/annasergeeva/opt/anaconda3/lib/python3.8/site-packages (from huggingface-hub<1.0,>=0.1.0->transformers) (3.7.4.3)\n",
      "Requirement already satisfied: pyparsing>=2.0.2 in /Users/annasergeeva/opt/anaconda3/lib/python3.8/site-packages (from packaging>=20.0->transformers) (2.4.7)\n",
      "Requirement already satisfied: chardet<5,>=3.0.2 in /Users/annasergeeva/opt/anaconda3/lib/python3.8/site-packages (from requests->transformers) (4.0.0)\n",
      "Requirement already satisfied: certifi>=2017.4.17 in /Users/annasergeeva/opt/anaconda3/lib/python3.8/site-packages (from requests->transformers) (2020.12.5)\n",
      "Requirement already satisfied: idna<3,>=2.5 in /Users/annasergeeva/opt/anaconda3/lib/python3.8/site-packages (from requests->transformers) (2.10)\n",
      "Requirement already satisfied: urllib3<1.27,>=1.21.1 in /Users/annasergeeva/opt/anaconda3/lib/python3.8/site-packages (from requests->transformers) (1.26.4)\n",
      "Requirement already satisfied: joblib in /Users/annasergeeva/opt/anaconda3/lib/python3.8/site-packages (from sacremoses->transformers) (1.0.1)\n",
      "Requirement already satisfied: six in /Users/annasergeeva/opt/anaconda3/lib/python3.8/site-packages (from sacremoses->transformers) (1.15.0)\n",
      "Requirement already satisfied: click in /Users/annasergeeva/opt/anaconda3/lib/python3.8/site-packages (from sacremoses->transformers) (7.1.2)\n",
      "Installing collected packages: tokenizers, sacremoses, huggingface-hub, transformers\n",
      "Successfully installed huggingface-hub-0.2.1 sacremoses-0.0.46 tokenizers-0.10.3 transformers-4.13.0\n"
     ]
    }
   ],
   "source": [
    "!pip install transformers"
   ]
  },
  {
   "cell_type": "code",
   "execution_count": 6,
   "id": "c0284418-dfe0-44c8-974e-ec3856874a1d",
   "metadata": {},
   "outputs": [
    {
     "name": "stdout",
     "output_type": "stream",
     "text": [
      "Collecting torch\n",
      "  Downloading torch-1.10.0-cp38-none-macosx_10_9_x86_64.whl (147.1 MB)\n",
      "\u001b[K     |████████████████████████████████| 147.1 MB 7.7 kB/s eta 0:00:012 |                                | 61 kB 1.1 MB/s eta 0:02:17     |                                | 102 kB 957 kB/s eta 0:02:34     |▏                               | 573 kB 957 kB/s eta 0:02:34     |▌                               | 2.3 MB 957 kB/s eta 0:02:32     |█████                           | 23.2 MB 12.4 MB/s eta 0:00:10     |██████▏                         | 28.3 MB 675 kB/s eta 0:02:56     |█████████▉                      | 45.2 MB 2.0 MB/s eta 0:00:52     |██████████▌                     | 48.1 MB 2.0 MB/s eta 0:00:50     |███████████▎                    | 51.9 MB 1.6 MB/s eta 0:01:01     |████████████▎                   | 56.3 MB 1.6 MB/s eta 0:00:57     |█████████████                   | 60.0 MB 1.6 MB/s eta 0:00:55     |█████████████████▏              | 79.2 MB 20.1 MB/s eta 0:00:04█████████████▏             | 83.6 MB 20.1 MB/s eta 0:00:04     |███████████████████▏            | 87.9 MB 6.2 MB/s eta 0:00:10     |███████████████████▎            | 88.6 MB 6.2 MB/s eta 0:00:10     |██████████████████████          | 101.3 MB 5.9 MB/s eta 0:00:08     |████████████████████████        | 110.8 MB 18.7 MB/s eta 0:00:02     |████████████████████████▏       | 111.1 MB 18.7 MB/s eta 0:00:02     |█████████████████████████▌      | 117.0 MB 1.1 MB/s eta 0:00:28     |██████████████████████████▏     | 120.2 MB 1.1 MB/s eta 0:00:25     |██████████████████████████▏     | 120.5 MB 370 kB/s eta 0:01:12     |██████████████████████████▌     | 121.7 MB 370 kB/s eta 0:01:09     |███████████████████████████▊    | 127.7 MB 370 kB/s eta 0:00:53     |████████████████████████████▋   | 131.4 MB 5.4 MB/s eta 0:00:03     |████████████████████████████████| 147.0 MB 717 kB/s eta 0:00:01\n",
      "\u001b[?25hRequirement already satisfied: typing-extensions in /Users/annasergeeva/opt/anaconda3/lib/python3.8/site-packages (from torch) (3.7.4.3)\n",
      "Installing collected packages: torch\n",
      "Successfully installed torch-1.10.0\n"
     ]
    }
   ],
   "source": [
    "!pip install torch"
   ]
  },
  {
   "cell_type": "code",
   "execution_count": 2,
   "id": "a2e81e61",
   "metadata": {},
   "outputs": [],
   "source": [
    "from transformers import pipeline\n",
    "model_checkpoint='distilgpt2'"
   ]
  },
  {
   "cell_type": "code",
   "execution_count": 3,
   "id": "5a892e52",
   "metadata": {},
   "outputs": [],
   "source": [
    "chef = pipeline('text-generation', model='poems-distilgpt2', tokenizer=model_checkpoint)"
   ]
  },
  {
   "cell_type": "code",
   "execution_count": 4,
   "id": "c5edcd47",
   "metadata": {},
   "outputs": [],
   "source": [
    "orig = pipeline('text-generation', model=model_checkpoint, tokenizer=model_checkpoint)"
   ]
  },
  {
   "cell_type": "code",
   "execution_count": 5,
   "id": "9efb1e57",
   "metadata": {},
   "outputs": [
    {
     "name": "stderr",
     "output_type": "stream",
     "text": [
      "Setting `pad_token_id` to `eos_token_id`:50256 for open-end generation.\n"
     ]
    },
    {
     "data": {
      "text/plain": [
       "[{'generated_text': \"How do we know what the hell is going on in Israel? The problem is that you've been thinking carefully about the fact that even a small percentage of Israelis live in the West Bank, the West Bank and even the border between Israel and the West\"}]"
      ]
     },
     "execution_count": 5,
     "metadata": {},
     "output_type": "execute_result"
    }
   ],
   "source": [
    "orig('How do we know')"
   ]
  },
  {
   "cell_type": "code",
   "execution_count": 6,
   "id": "1371ee28",
   "metadata": {
    "scrolled": true
   },
   "outputs": [
    {
     "name": "stderr",
     "output_type": "stream",
     "text": [
      "Setting `pad_token_id` to `eos_token_id`:50256 for open-end generation.\n"
     ]
    },
    {
     "data": {
      "text/plain": [
       "[{'generated_text': \"How do we know the way we see The wind's going down, with a smile on her face; And when we see her, we'll all be pretty too, For all the time she takes for walking down the street; And that's when\"}]"
      ]
     },
     "execution_count": 6,
     "metadata": {},
     "output_type": "execute_result"
    }
   ],
   "source": [
    "chef('How do we know')"
   ]
  },
  {
   "cell_type": "code",
   "execution_count": 7,
   "id": "5841312f",
   "metadata": {},
   "outputs": [],
   "source": [
    "def get_chef(txt, n_words):\n",
    "    gen = chef(txt, max_length=n_words)\n",
    "    return str(gen[0]['generated_text'].strip())\n",
    "\n",
    "def get_orig(txt, n_words):\n",
    "    gen = orig(txt, max_length=n_words)\n",
    "    return str(gen[0]['generated_text'].strip())"
   ]
  },
  {
   "cell_type": "code",
   "execution_count": 9,
   "id": "533894c6-293f-4f94-bc99-37b652dd83b2",
   "metadata": {},
   "outputs": [
    {
     "name": "stderr",
     "output_type": "stream",
     "text": [
      "Setting `pad_token_id` to `eos_token_id`:50256 for open-end generation.\n"
     ]
    },
    {
     "data": {
      "text/plain": [
       "'How do we know it, how we know it and then we need to use it, how we'"
      ]
     },
     "execution_count": 9,
     "metadata": {},
     "output_type": "execute_result"
    }
   ],
   "source": [
    "get_orig('How do we know', 20)"
   ]
  },
  {
   "cell_type": "code",
   "execution_count": 8,
   "id": "1761bdaa",
   "metadata": {},
   "outputs": [
    {
     "name": "stderr",
     "output_type": "stream",
     "text": [
      "Setting `pad_token_id` to `eos_token_id`:50256 for open-end generation.\n"
     ]
    },
    {
     "data": {
      "text/plain": [
       "'How do we know when the world is done? Who would have thought our little children were the way they were when you moved'"
      ]
     },
     "execution_count": 8,
     "metadata": {},
     "output_type": "execute_result"
    }
   ],
   "source": [
    "get_chef('How do we know', 25)"
   ]
  },
  {
   "cell_type": "code",
   "execution_count": 11,
   "id": "ad26c0bb-35d2-4445-bc27-6e074e2ba88b",
   "metadata": {},
   "outputs": [],
   "source": [
    "import ipywidgets as widgets\n",
    "from IPython.display import display"
   ]
  },
  {
   "cell_type": "code",
   "execution_count": 23,
   "id": "67abe0ef",
   "metadata": {},
   "outputs": [
    {
     "data": {
      "application/vnd.jupyter.widget-view+json": {
       "model_id": "13e25d6ac35940bea04e055db6c62115",
       "version_major": 2,
       "version_minor": 0
      },
      "text/plain": [
       "Textarea(value='', description='poetry')"
      ]
     },
     "metadata": {},
     "output_type": "display_data"
    },
    {
     "data": {
      "application/vnd.jupyter.widget-view+json": {
       "model_id": "521679f7aad34fcabff109a1fef4a5a0",
       "version_major": 2,
       "version_minor": 0
      },
      "text/plain": [
       "IntSlider(value=5, description='# new words', max=50, min=5)"
      ]
     },
     "metadata": {},
     "output_type": "display_data"
    },
    {
     "data": {
      "application/vnd.jupyter.widget-view+json": {
       "model_id": "26db448f2a3d4fffaa264e42a3604916",
       "version_major": 2,
       "version_minor": 0
      },
      "text/plain": [
       "Button(description='chef', style=ButtonStyle())"
      ]
     },
     "metadata": {},
     "output_type": "display_data"
    },
    {
     "data": {
      "application/vnd.jupyter.widget-view+json": {
       "model_id": "3ec6d92b40974acbac2a1d90eb8f7b81",
       "version_major": 2,
       "version_minor": 0
      },
      "text/plain": [
       "Output()"
      ]
     },
     "metadata": {},
     "output_type": "display_data"
    }
   ],
   "source": [
    "button = widgets.Button(description=\"chef\")\n",
    "text = widgets.Textarea(description=\"poetry\")\n",
    "num_words = widgets.IntSlider(description='# new words', min=5, max=50, value=5, step=1)\n",
    "output = widgets.Output()\n",
    "full_text = ''\n",
    "full_n_tokens = 0\n",
    "\n",
    "display(text, num_words, button, output)\n",
    "\n",
    "@output.capture(clear_output=True)\n",
    "def on_button_clicked(b):\n",
    "    global full_text, full_n_tokens\n",
    "    full_text = ' '.join([full_text, text.value]).strip()\n",
    "    full_n_tokens += len(full_text.split())\n",
    "    full_text = get_chef(full_text, full_n_tokens + num_words.value).strip()\n",
    "    display(full_text)\n",
    "\n",
    "button.on_click(on_button_clicked)"
   ]
  },
  {
   "cell_type": "code",
   "execution_count": null,
   "id": "97c2d95e",
   "metadata": {},
   "outputs": [],
   "source": []
  }
 ],
 "metadata": {
  "kernelspec": {
   "display_name": "Python 3",
   "language": "python",
   "name": "python3"
  },
  "language_info": {
   "codemirror_mode": {
    "name": "ipython",
    "version": 3
   },
   "file_extension": ".py",
   "mimetype": "text/x-python",
   "name": "python",
   "nbconvert_exporter": "python",
   "pygments_lexer": "ipython3",
   "version": "3.8.8"
  }
 },
 "nbformat": 4,
 "nbformat_minor": 5
}
